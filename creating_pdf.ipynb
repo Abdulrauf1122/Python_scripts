{
  "nbformat": 4,
  "nbformat_minor": 0,
  "metadata": {
    "colab": {
      "provenance": []
    },
    "kernelspec": {
      "name": "python3",
      "display_name": "Python 3"
    },
    "language_info": {
      "name": "python"
    }
  },
  "cells": [
    {
      "cell_type": "code",
      "execution_count": 1,
      "metadata": {
        "colab": {
          "base_uri": "https://localhost:8080/"
        },
        "id": "pE8JNAvdgcWV",
        "outputId": "a886e0c5-7aa0-4124-f5d3-901509d2baf0"
      },
      "outputs": [
        {
          "output_type": "stream",
          "name": "stdout",
          "text": [
            "Collecting fpdf\n",
            "  Downloading fpdf-1.7.2.tar.gz (39 kB)\n",
            "  Preparing metadata (setup.py) ... \u001b[?25l\u001b[?25hdone\n",
            "Building wheels for collected packages: fpdf\n",
            "  Building wheel for fpdf (setup.py) ... \u001b[?25l\u001b[?25hdone\n",
            "  Created wheel for fpdf: filename=fpdf-1.7.2-py2.py3-none-any.whl size=40704 sha256=dd961bec49687c749d3d146c70783cbb0dbf5b350e9024e37cf4f43784df4ea8\n",
            "  Stored in directory: /root/.cache/pip/wheels/65/4f/66/bbda9866da446a72e206d6484cd97381cbc7859a7068541c36\n",
            "Successfully built fpdf\n",
            "Installing collected packages: fpdf\n",
            "Successfully installed fpdf-1.7.2\n"
          ]
        }
      ],
      "source": [
        "pip install fpdf"
      ]
    },
    {
      "cell_type": "code",
      "source": [
        "from fpdf import FPDF\n",
        "\n",
        "pdf = FPDF()\n",
        "pdf.add_page()\n",
        "pdf.set_font(\"Arial\", size=12)\n",
        "\n",
        "pdf.set_font(\"Arial\", style=\"B\", size=16)\n",
        "pdf.cell(200, txt=\"My First PDF in Python\", ln=True, align=\"C\")\n",
        "\n",
        "pdf.set_font(\"Arial\", size=12)\n",
        "pdf.multi_cell(0, 10, txt=\"This is created using Python\")\n",
        "\n",
        "pdf.output(\"abdul.pdf\")\n",
        "print(\"PDF created successfully\")"
      ],
      "metadata": {
        "colab": {
          "base_uri": "https://localhost:8080/"
        },
        "id": "ZVCA34yrg2Xq",
        "outputId": "79b3287f-7aa7-4ca5-e1c4-960dd9708c51"
      },
      "execution_count": 3,
      "outputs": [
        {
          "output_type": "stream",
          "name": "stdout",
          "text": [
            "PDF created successfully\n"
          ]
        }
      ]
    },
    {
      "cell_type": "code",
      "source": [],
      "metadata": {
        "id": "z8VXfp5JiZda"
      },
      "execution_count": null,
      "outputs": []
    }
  ]
}