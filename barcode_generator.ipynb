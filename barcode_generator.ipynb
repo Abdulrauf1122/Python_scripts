{
  "nbformat": 4,
  "nbformat_minor": 0,
  "metadata": {
    "colab": {
      "provenance": []
    },
    "kernelspec": {
      "name": "python3",
      "display_name": "Python 3"
    },
    "language_info": {
      "name": "python"
    }
  },
  "cells": [
    {
      "cell_type": "markdown",
      "source": [
        "# **Installing library**"
      ],
      "metadata": {
        "id": "yup-yb2ojO6o"
      }
    },
    {
      "cell_type": "code",
      "execution_count": 1,
      "metadata": {
        "colab": {
          "base_uri": "https://localhost:8080/"
        },
        "id": "pE8JNAvdgcWV",
        "outputId": "a2ecd26e-aacb-4f37-b6fd-09bfab93718d"
      },
      "outputs": [
        {
          "output_type": "stream",
          "name": "stdout",
          "text": [
            "Requirement already satisfied: python-barcode in /usr/local/lib/python3.11/dist-packages (0.15.1)\n",
            "Requirement already satisfied: pillow in /usr/local/lib/python3.11/dist-packages (11.3.0)\n"
          ]
        }
      ],
      "source": [
        "!pip install python-barcode pillow"
      ]
    },
    {
      "cell_type": "markdown",
      "source": [
        "## **Barcode_Generting**"
      ],
      "metadata": {
        "id": "T8XZI24SjV3e"
      }
    },
    {
      "cell_type": "code",
      "source": [
        "# Import libraries\n",
        "import barcode\n",
        "from barcode.writer import ImageWriter\n",
        "from IPython.display import Image, display\n",
        "\n",
        "# Barcode generator function\n",
        "def generate_barcode(data):\n",
        "    code = barcode.get('code128', data, writer=ImageWriter())\n",
        "\n",
        "    # Set writer options to hide the text under the barcode\n",
        "    barcode_filename = code.save(\"barcode\", options={\"write_text\": False})\n",
        "\n",
        "    print(\"Barcode generated successfully!\")\n",
        "    display(Image(filename=f\"{barcode_filename}\"))\n",
        "\n",
        "# Input data\n",
        "data = \"HAPPY\"\n",
        "generate_barcode(data)"
      ],
      "metadata": {
        "colab": {
          "base_uri": "https://localhost:8080/",
          "height": 235
        },
        "id": "H-JhJZ5gmn3B",
        "outputId": "b5d76a98-17ea-4713-82c9-05dd4ce3b969"
      },
      "execution_count": 18,
      "outputs": [
        {
          "output_type": "stream",
          "name": "stdout",
          "text": [
            "Barcode generated successfully!\n"
          ]
        },
        {
          "output_type": "display_data",
          "data": {
            "image/png": "[encoded data removed]",
            "text/plain": [
              "<IPython.core.display.Image object>"
            ]
          },
          "metadata": {}
        }
      ]
    }
  ]
}