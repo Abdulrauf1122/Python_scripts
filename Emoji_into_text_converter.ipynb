{
  "nbformat": 4,
  "nbformat_minor": 0,
  "metadata": {
    "colab": {
      "provenance": []
    },
    "kernelspec": {
      "name": "python3",
      "display_name": "Python 3"
    },
    "language_info": {
      "name": "python"
    }
  },
  "cells": [
    {
      "cell_type": "code",
      "execution_count": 4,
      "metadata": {
        "colab": {
          "base_uri": "https://localhost:8080/"
        },
        "id": "pE8JNAvdgcWV",
        "outputId": "4edf133d-ff6b-45d3-a6de-cb4ea4f24aec"
      },
      "outputs": [
        {
          "output_type": "stream",
          "name": "stdout",
          "text": [
            "Collecting demoji\n",
            "  Downloading demoji-1.1.0-py3-none-any.whl.metadata (9.2 kB)\n",
            "Downloading demoji-1.1.0-py3-none-any.whl (42 kB)\n",
            "\u001b[2K   \u001b[90m━━━━━━━━━━━━━━━━━━━━━━━━━━━━━━━━━━━━━━━━\u001b[0m \u001b[32m42.9/42.9 kB\u001b[0m \u001b[31m469.5 kB/s\u001b[0m eta \u001b[36m0:00:00\u001b[0m\n",
            "\u001b[?25hInstalling collected packages: demoji\n",
            "Successfully installed demoji-1.1.0\n"
          ]
        }
      ],
      "source": [
        "pip install demoji"
      ]
    },
    {
      "cell_type": "code",
      "source": [
        "import demoji\n",
        "\n",
        "text=\"Paste Emoji here\"\n",
        "demoji.findall(text)"
      ],
      "metadata": {
        "colab": {
          "base_uri": "https://localhost:8080/"
        },
        "id": "ZVCA34yrg2Xq",
        "outputId": "ca211486-34ea-4184-ad14-2288994dc52d"
      },
      "execution_count": 8,
      "outputs": [
        {
          "output_type": "execute_result",
          "data": {
            "text/plain": [
              "{}"
            ]
          },
          "metadata": {},
          "execution_count": 8
        }
      ]
    },
    {
      "cell_type": "markdown",
      "source": [
        "# **Like Example Below**"
      ],
      "metadata": {
        "id": "87yEEoOYm5e9"
      }
    },
    {
      "cell_type": "code",
      "source": [
        "import demoji\n",
        "\n",
        "text= \"❤ , 👍 , 👌\"\n",
        "demoji.findall(text)"
      ],
      "metadata": {
        "colab": {
          "base_uri": "https://localhost:8080/"
        },
        "id": "z8VXfp5JiZda",
        "outputId": "4563b822-ecfb-45e1-a1fc-d6b2ae8267d3"
      },
      "execution_count": 12,
      "outputs": [
        {
          "output_type": "execute_result",
          "data": {
            "text/plain": [
              "{'👍': 'thumbs up', '❤': 'red heart', '👌': 'OK hand'}"
            ]
          },
          "metadata": {},
          "execution_count": 12
        }
      ]
    },
    {
      "cell_type": "code",
      "source": [],
      "metadata": {
        "id": "p_LqfV7znf-s"
      },
      "execution_count": null,
      "outputs": []
    }
  ]
}