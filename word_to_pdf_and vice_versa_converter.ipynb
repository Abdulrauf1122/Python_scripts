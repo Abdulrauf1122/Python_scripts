{
  "nbformat": 4,
  "nbformat_minor": 0,
  "metadata": {
    "colab": {
      "provenance": []
    },
    "kernelspec": {
      "name": "python3",
      "display_name": "Python 3"
    },
    "language_info": {
      "name": "python"
    }
  },
  "cells": [
    {
      "cell_type": "markdown",
      "source": [
        "# **Installing library**"
      ],
      "metadata": {
        "id": "yup-yb2ojO6o"
      }
    },
    {
      "cell_type": "code",
      "source": [
        "pip install pdf2docx docx2pdf"
      ],
      "metadata": {
        "colab": {
          "base_uri": "https://localhost:8080/"
        },
        "id": "TiwLRLlwoqUF",
        "outputId": "1fe1b939-7cf2-4fa5-d061-d22f20c6c2eb"
      },
      "execution_count": 1,
      "outputs": [
        {
          "output_type": "stream",
          "name": "stdout",
          "text": [
            "Collecting pdf2docx\n",
            "  Downloading pdf2docx-0.5.8-py3-none-any.whl.metadata (3.2 kB)\n",
            "Collecting docx2pdf\n",
            "  Downloading docx2pdf-0.1.8-py3-none-any.whl.metadata (3.3 kB)\n",
            "Collecting PyMuPDF>=1.19.0 (from pdf2docx)\n",
            "  Downloading pymupdf-1.26.3-cp39-abi3-manylinux_2_28_x86_64.whl.metadata (3.4 kB)\n",
            "Collecting python-docx>=0.8.10 (from pdf2docx)\n",
            "  Downloading python_docx-1.2.0-py3-none-any.whl.metadata (2.0 kB)\n",
            "Requirement already satisfied: fonttools>=4.24.0 in /usr/local/lib/python3.11/dist-packages (from pdf2docx) (4.59.0)\n",
            "Requirement already satisfied: numpy>=1.17.2 in /usr/local/lib/python3.11/dist-packages (from pdf2docx) (2.0.2)\n",
            "Requirement already satisfied: opencv-python-headless>=4.5 in /usr/local/lib/python3.11/dist-packages (from pdf2docx) (4.12.0.88)\n",
            "Collecting fire>=0.3.0 (from pdf2docx)\n",
            "  Downloading fire-0.7.0.tar.gz (87 kB)\n",
            "\u001b[2K     \u001b[90m━━━━━━━━━━━━━━━━━━━━━━━━━━━━━━━━━━━━━━━━\u001b[0m \u001b[32m87.2/87.2 kB\u001b[0m \u001b[31m2.4 MB/s\u001b[0m eta \u001b[36m0:00:00\u001b[0m\n",
            "\u001b[?25h  Preparing metadata (setup.py) ... \u001b[?25l\u001b[?25hdone\n",
            "Requirement already satisfied: tqdm>=4.41.0 in /usr/local/lib/python3.11/dist-packages (from docx2pdf) (4.67.1)\n",
            "Requirement already satisfied: termcolor in /usr/local/lib/python3.11/dist-packages (from fire>=0.3.0->pdf2docx) (3.1.0)\n",
            "Requirement already satisfied: lxml>=3.1.0 in /usr/local/lib/python3.11/dist-packages (from python-docx>=0.8.10->pdf2docx) (5.4.0)\n",
            "Requirement already satisfied: typing_extensions>=4.9.0 in /usr/local/lib/python3.11/dist-packages (from python-docx>=0.8.10->pdf2docx) (4.14.1)\n",
            "Downloading pdf2docx-0.5.8-py3-none-any.whl (132 kB)\n",
            "\u001b[2K   \u001b[90m━━━━━━━━━━━━━━━━━━━━━━━━━━━━━━━━━━━━━━━━\u001b[0m \u001b[32m132.0/132.0 kB\u001b[0m \u001b[31m6.8 MB/s\u001b[0m eta \u001b[36m0:00:00\u001b[0m\n",
            "\u001b[?25hDownloading docx2pdf-0.1.8-py3-none-any.whl (6.7 kB)\n",
            "Downloading pymupdf-1.26.3-cp39-abi3-manylinux_2_28_x86_64.whl (24.1 MB)\n",
            "\u001b[2K   \u001b[90m━━━━━━━━━━━━━━━━━━━━━━━━━━━━━━━━━━━━━━━━\u001b[0m \u001b[32m24.1/24.1 MB\u001b[0m \u001b[31m57.5 MB/s\u001b[0m eta \u001b[36m0:00:00\u001b[0m\n",
            "\u001b[?25hDownloading python_docx-1.2.0-py3-none-any.whl (252 kB)\n",
            "\u001b[2K   \u001b[90m━━━━━━━━━━━━━━━━━━━━━━━━━━━━━━━━━━━━━━━━\u001b[0m \u001b[32m253.0/253.0 kB\u001b[0m \u001b[31m20.0 MB/s\u001b[0m eta \u001b[36m0:00:00\u001b[0m\n",
            "\u001b[?25hBuilding wheels for collected packages: fire\n",
            "  Building wheel for fire (setup.py) ... \u001b[?25l\u001b[?25hdone\n",
            "  Created wheel for fire: filename=fire-0.7.0-py3-none-any.whl size=114249 sha256=f347592adddae421f1e8618f13ddcf658991766e2f488b3d4ae3703cd0214929\n",
            "  Stored in directory: /root/.cache/pip/wheels/46/54/24/1624fd5b8674eb1188623f7e8e17cdf7c0f6c24b609dfb8a89\n",
            "Successfully built fire\n",
            "Installing collected packages: python-docx, PyMuPDF, fire, docx2pdf, pdf2docx\n",
            "Successfully installed PyMuPDF-1.26.3 docx2pdf-0.1.8 fire-0.7.0 pdf2docx-0.5.8 python-docx-1.2.0\n"
          ]
        }
      ]
    },
    {
      "cell_type": "markdown",
      "source": [
        "# **Converting word to pdf and vice versa**"
      ],
      "metadata": {
        "id": "2XQ5Phmpvos7"
      }
    },
    {
      "cell_type": "code",
      "source": [
        "import os\n",
        "import subprocess\n",
        "from pdf2docx import Converter\n",
        "\n",
        "# ----------- PDF to Word -----------\n",
        "def pdf_to_word(pdf_file, word_file):\n",
        "    cv = Converter(pdf_file)\n",
        "    cv.convert(word_file)\n",
        "    cv.close()\n",
        "    print(f\" Converted PDF to Word: {word_file}\")\n",
        "\n",
        "# ----------- Word to PDF (Linux-friendly) -----------\n",
        "def word_to_pdf(word_file, pdf_file):\n",
        "    try:\n",
        "        subprocess.run([\n",
        "            \"libreoffice\", \"--headless\", \"--convert-to\", \"pdf\", \"--outdir\",\n",
        "            os.path.dirname(pdf_file) if os.path.dirname(pdf_file) else \".\",\n",
        "            word_file\n",
        "        ], check=True)\n",
        "        # LibreOffice outputs with same name, so rename if needed\n",
        "        default_pdf = os.path.splitext(word_file)[0] + \".pdf\"\n",
        "        if os.path.abspath(default_pdf) != os.path.abspath(pdf_file):\n",
        "            os.rename(default_pdf, pdf_file)\n",
        "        print(f\" Converted Word to PDF: {pdf_file}\")\n",
        "    except Exception as e:\n",
        "        print(f\" Error converting Word to PDF: {e}\")\n",
        "\n",
        "if __name__ == \"__main__\":\n",
        "    print(\"Choose Conversion Type:\")\n",
        "    print(\"1. PDF → Word\")\n",
        "    print(\"2. Word → PDF\")\n",
        "    choice = input(\"Enter choice (1 or 2): \").strip()\n",
        "\n",
        "    if choice == \"1\":\n",
        "        pdf_path = input(\"Enter the full path to your PDF file: \").strip()\n",
        "        if not os.path.exists(pdf_path):\n",
        "            print(\" File not found! Check the path.\")\n",
        "        else:\n",
        "            word_output = input(\"Enter the output Word file path (e.g., output.docx): \").strip()\n",
        "            pdf_to_word(pdf_path, word_output)\n",
        "\n",
        "    elif choice == \"2\":\n",
        "        word_path = input(\"Enter the full path to your Word file (.docx): \").strip()\n",
        "        if not os.path.exists(word_path):\n",
        "            print(\" File not found! Check the path.\")\n",
        "        else:\n",
        "            pdf_output = input(\"Enter the output PDF file path (e.g., output.pdf): \").strip()\n",
        "            word_to_pdf(word_path, pdf_output)\n",
        "\n",
        "    else:\n",
        "        print(\" Invalid choice. Please select 1 or 2.\")"
      ],
      "metadata": {
        "colab": {
          "base_uri": "https://localhost:8080/"
        },
        "id": "_iMFQlD4SelF",
        "outputId": "619ea58b-7cda-42b7-9199-54c6cdcc6f37"
      },
      "execution_count": 12,
      "outputs": [
        {
          "output_type": "stream",
          "name": "stdout",
          "text": [
            "Choose Conversion Type:\n",
            "1. PDF → Word\n",
            "2. Word → PDF\n",
            "Enter choice (1 or 2): 2\n",
            "Enter the full path to your Word file (.docx): /content/docx.docx\n",
            "Enter the output PDF file path (e.g., output.pdf): /content/docx.pdf\n",
            " Converted Word to PDF: /content/docx.pdf\n"
          ]
        }
      ]
    },
    {
      "cell_type": "code",
      "source": [],
      "metadata": {
        "id": "Dwxc9Ek5USMS"
      },
      "execution_count": null,
      "outputs": []
    }
  ]
}